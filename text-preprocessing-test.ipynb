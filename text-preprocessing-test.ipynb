{
  "cells": [
    {
      "cell_type": "markdown",
      "metadata": {
        "id": "MRWgmyEGWDd-"
      },
      "source": [
        "# 전처리 성능 비교\n",
        "* <font size=4>극단적 전처리 차이로 유사도 성능 비교 실험</font>"
      ]
    },
    {
      "cell_type": "code",
      "execution_count": 1,
      "metadata": {
        "id": "j0suJcFrAcQo"
      },
      "outputs": [],
      "source": [
        "import os\n",
        "import sys\n",
        "import pandas as pd\n",
        "import numpy as np \n",
        "import torch\n",
        "import random\n",
        "\n",
        "import re"
      ]
    },
    {
      "cell_type": "code",
      "execution_count": 6,
      "metadata": {
        "id": "6-HghJA0pKq7"
      },
      "outputs": [],
      "source": [
        "import json"
      ]
    },
    {
      "cell_type": "code",
      "execution_count": 7,
      "metadata": {
        "colab": {
          "base_uri": "https://localhost:8080/"
        },
        "id": "bMJC-bVC-QJF",
        "outputId": "759ff69d-5cd9-4eac-d9cf-3eb118e6671a"
      },
      "outputs": [
        {
          "name": "stdout",
          "output_type": "stream",
          "text": [
            "Drive already mounted at /content/drive; to attempt to forcibly remount, call drive.mount(\"/content/drive\", force_remount=True).\n"
          ]
        }
      ],
      "source": [
        "from google.colab import drive\n",
        "drive.mount('/content/drive')"
      ]
    },
    {
      "cell_type": "markdown",
      "metadata": {
        "id": "u_olBj-0Ee1S"
      },
      "source": [
        "# train data 전처리"
      ]
    },
    {
      "cell_type": "code",
      "execution_count": 10,
      "metadata": {
        "id": "tmb5-brBo_SB"
      },
      "outputs": [],
      "source": [
        "# dev.json 파일 업로드\n",
        "\n",
        "with open('/content/drive/MyDrive/sts-전처리/klue-sts-v1.1/klue-sts-v1.1_train.json', 'r') as f:\n",
        "\n",
        "  json_data_1 = json.load(f)\n",
        "\n",
        "  json.dumps(json_data_1, ensure_ascii=False)\n",
        "\n",
        "with open('/content/drive/MyDrive/sts-전처리/klue-sts-v1.1/klue-sts-v1.1_train.json', 'r') as f:\n",
        "\n",
        "  json_data_2 = json.load(f)\n",
        "\n",
        "  json.dumps(json_data_2, ensure_ascii=False)"
      ]
    },
    {
      "cell_type": "code",
      "execution_count": 12,
      "metadata": {
        "id": "OOfQeAoWFyls"
      },
      "outputs": [],
      "source": [
        "# 전처리 두가지 1. 영어, 숫자, 특수문자 전처리 2. 영어만 소문자 처리\n",
        "\n",
        "# 1번 전처리(영어, 숫자, 특수문자 전처리)\n",
        "def delete_1(json_data):\n",
        "  for idx in range(len(json_data)):\n",
        "    json_data[idx]['sentence1'] = re.sub('[0-9a-zA-Z-=+,#/\\?:^$.@*\\\"※~&%ㆍ!』\\\\‘〈〉|\\(\\)\\[\\]\\<\\>`\\'…》《]','', json_data[idx]['sentence1'])\n",
        "    json_data[idx]['sentence2'] = re.sub('[0-9a-zA-Z-=+,#/\\?:^$.@*\\\"※~&%ㆍ!』\\\\‘〈〉|\\(\\)\\[\\]\\<\\>`\\'…》《]','', json_data[idx]['sentence2'])\n",
        "  return json_data\n",
        "\n",
        "# 2번 전처리(영어만 소문자 처리)\n",
        "def delete_2(json_data):\n",
        "  for idx in range(len(json_data)):\n",
        "    json_data[idx]['sentence1'] = json_data[idx]['sentence1'].lower()\n",
        "    json_data[idx]['sentence2'] = json_data[idx]['sentence2'].lower()\n",
        "  return json_data\n"
      ]
    },
    {
      "cell_type": "code",
      "execution_count": 18,
      "metadata": {
        "id": "9y556_qDKXHe"
      },
      "outputs": [],
      "source": [
        "train_1 = delete_1(json_data_1)\n",
        "train_2 = delete_2(json_data_2)"
      ]
    },
    {
      "cell_type": "code",
      "execution_count": 19,
      "metadata": {
        "colab": {
          "base_uri": "https://localhost:8080/"
        },
        "id": "kVvQVhd70X6X",
        "outputId": "3f90228e-876c-41d2-de87-a68205f73518"
      },
      "outputs": [
        {
          "name": "stdout",
          "output_type": "stream",
          "text": [
            "올해 예산 이·전용분 억 원 중 억 원은 코박스 퍼실러티  가입을 위한 선급금으로 이미 집행했다\n",
            "올해 예산 이·전용분 1723억 원 중 850억 원은 코박스 퍼실러티(covax facility) 가입을 위한 선급금으로 이미 집행했다.\n"
          ]
        }
      ],
      "source": [
        "# 전처리 결과 확인\n",
        "\n",
        "print(train_1[7162]['sentence1'])\n",
        "print(train_2[7162]['sentence1'])"
      ]
    },
    {
      "cell_type": "code",
      "execution_count": 20,
      "metadata": {
        "id": "ipzXtytczzZ1"
      },
      "outputs": [],
      "source": [
        "# 전처리 파일 json파일 저장\n",
        "\n",
        "with open('/content/drive/MyDrive/sts-전처리/train_1.json','w') as f:\n",
        "  json.dump(train_1, f, ensure_ascii=False)\n",
        "\n",
        "with open('/content/drive/MyDrive/sts-전처리/train_2.json','w') as f:\n",
        "  json.dump(train_2, f, ensure_ascii=False)"
      ]
    },
    {
      "cell_type": "markdown",
      "metadata": {
        "id": "QZSEzwRZEL77"
      },
      "source": [
        "# Data train 시킨후 dev를 예측한 output 가져와 매트릭스 연산\n",
        "<font size=4>team lostcow의 robert모델을 기준으로 함(robert-base)</font>\n",
        "\n",
        "<font size=2>출처: https://github.com/l-yohai/KLUE</font>"
      ]
    },
    {
      "cell_type": "markdown",
      "metadata": {
        "id": "ZR7XgOsbzcJe"
      },
      "source": [
        "* <font size=4>1. 영어 숫자, 특수문자 전처리 f1 스코어</font>"
      ]
    },
    {
      "cell_type": "code",
      "execution_count": 11,
      "metadata": {
        "id": "Hqjuky-PxGqn"
      },
      "outputs": [],
      "source": [
        "#Regression pred 를 binary-label pred로 변환\n",
        "\n",
        "df_pred = pd.read_csv('/content/drive/MyDrive/sts-전처리/output_1.csv',header=None)\n",
        "df_pred=(df_pred>2.5).astype(int)"
      ]
    },
    {
      "cell_type": "code",
      "execution_count": 12,
      "metadata": {
        "id": "eVA5NRV9zZCy"
      },
      "outputs": [],
      "source": [
        "#valid의 label 값을 추출\n",
        "def read_json(file_path):\n",
        "    with open(file_path) as f:\n",
        "        return json.load(f)\n",
        "\n",
        "valid_data=read_json('/content/drive/MyDrive/sts-전처리/klue-sts-v1.1/klue-sts-v1.1_dev.json')\n",
        "valid_label=[data['labels']['binary-label'] for data in valid_data]"
      ]
    },
    {
      "cell_type": "code",
      "execution_count": 13,
      "metadata": {
        "colab": {
          "base_uri": "https://localhost:8080/"
        },
        "id": "NMV2NZKmxGv9",
        "outputId": "3eeabca3-3178-4e7d-9e1f-73bb79d368bc"
      },
      "outputs": [
        {
          "name": "stdout",
          "output_type": "stream",
          "text": [
            "              precision    recall  f1-score   support\n",
            "\n",
            "           0       1.00      0.65      0.79       299\n",
            "           1       0.68      1.00      0.81       220\n",
            "\n",
            "    accuracy                           0.80       519\n",
            "   macro avg       0.84      0.83      0.80       519\n",
            "weighted avg       0.86      0.80      0.80       519\n",
            "\n",
            "base_line(roberta-base) f1_score: 0.8088235294117647\n"
          ]
        }
      ],
      "source": [
        "from sklearn.metrics import classification_report,f1_score\n",
        "\n",
        "#혼돈 메트릭스 및 f1_score 시각화\n",
        "\n",
        "print(classification_report(valid_label, df_pred))\n",
        "print('base_line(roberta-base) f1_score:',f1_score(valid_label, df_pred))"
      ]
    },
    {
      "cell_type": "markdown",
      "metadata": {
        "id": "_ajb-JkrzjXn"
      },
      "source": [
        "* <font size=4>2. 영어만 소문자 전처리 f1 스코어</font>"
      ]
    },
    {
      "cell_type": "code",
      "execution_count": 14,
      "metadata": {
        "id": "dURU5tFdxG1C"
      },
      "outputs": [],
      "source": [
        "#Regression pred 를 binary-label pred로 변환\n",
        "\n",
        "df_pred = pd.read_csv('/content/drive/MyDrive/sts-전처리/output_2.csv',header=None)\n",
        "df_pred=(df_pred>2.5).astype(int)"
      ]
    },
    {
      "cell_type": "code",
      "execution_count": 16,
      "metadata": {
        "colab": {
          "base_uri": "https://localhost:8080/"
        },
        "id": "wlx9Lk33zZpS",
        "outputId": "d4efe3e9-5672-4771-cdf7-a7c330d23d1e"
      },
      "outputs": [
        {
          "name": "stdout",
          "output_type": "stream",
          "text": [
            "              precision    recall  f1-score   support\n",
            "\n",
            "           0       0.99      0.65      0.79       299\n",
            "           1       0.68      0.99      0.80       220\n",
            "\n",
            "    accuracy                           0.80       519\n",
            "   macro avg       0.83      0.82      0.80       519\n",
            "weighted avg       0.86      0.80      0.79       519\n",
            "\n",
            "base_line(roberta-base) f1_score: 0.8044280442804427\n"
          ]
        }
      ],
      "source": [
        "#혼돈 메트릭스 및 f1_score 시각화\n",
        "\n",
        "print(classification_report(valid_label, df_pred))\n",
        "print('base_line(roberta-base) f1_score:',f1_score(valid_label, df_pred))"
      ]
    },
    {
      "cell_type": "markdown",
      "metadata": {
        "id": "j6SYtcxtX8eL"
      },
      "source": [
        "### 결론\n",
        "* <font size=4>전처리가 많은 데이터가 근소하게 높은 f1스코어를 보임</font>"
      ]
    }
  ],
  "metadata": {
    "accelerator": "GPU",
    "colab": {
      "collapsed_sections": [],
      "machine_shape": "hm",
      "name": "원티드 기업과제 3번 전처리.ipynb",
      "provenance": []
    },
    "kernelspec": {
      "display_name": "Python 3",
      "name": "python3"
    },
    "language_info": {
      "name": "python"
    }
  },
  "nbformat": 4,
  "nbformat_minor": 0
}
